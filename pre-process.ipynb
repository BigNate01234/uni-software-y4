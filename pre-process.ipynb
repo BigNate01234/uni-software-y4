{
 "cells": [
  {
   "cell_type": "code",
   "execution_count": 1,
   "id": "d137f793",
   "metadata": {},
   "outputs": [],
   "source": [
    "import os\n",
    "from PIL import Image"
   ]
  },
  {
   "cell_type": "code",
   "execution_count": 12,
   "id": "74d9ae5a",
   "metadata": {},
   "outputs": [
    {
     "name": "stdout",
     "output_type": "stream",
     "text": [
      "checking training\n",
      "checking evaluation\n",
      "checking validation\n",
      "[]\n"
     ]
    }
   ],
   "source": [
    "bad_files = []\n",
    "for split in ['training', 'evaluation', 'validation']:\n",
    "    path = f\"data\\\\unprocessed\\\\{split}\"\n",
    "    categories = os.listdir(path)\n",
    "    print(f\"checking {split}\")\n",
    "    for category in categories:\n",
    "        images = os.listdir(f\"{path}\\\\{category}\")\n",
    "        # print(f\"checking {split}\\\\{category}\")\n",
    "        for i in images:\n",
    "            try:\n",
    "                Image.open(f\"{path}\\\\{category}\\\\{i}\").verify()\n",
    "            except Exception:\n",
    "                bad_files.append(f\"{path}\\\\{category}\\\\{i}\")\n",
    "print(bad_files)\n",
    "        "
   ]
  },
  {
   "cell_type": "code",
   "execution_count": 11,
   "id": "dae02daf",
   "metadata": {},
   "outputs": [],
   "source": [
    "for file in bad_files:\n",
    "    os.remove(file)"
   ]
  }
 ],
 "metadata": {
  "kernelspec": {
   "display_name": ".venv",
   "language": "python",
   "name": "python3"
  },
  "language_info": {
   "codemirror_mode": {
    "name": "ipython",
    "version": 3
   },
   "file_extension": ".py",
   "mimetype": "text/x-python",
   "name": "python",
   "nbconvert_exporter": "python",
   "pygments_lexer": "ipython3",
   "version": "3.12.0"
  }
 },
 "nbformat": 4,
 "nbformat_minor": 5
}
