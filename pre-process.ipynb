{
 "cells": [
  {
   "cell_type": "code",
   "execution_count": null,
   "id": "d137f793",
   "metadata": {},
   "outputs": [],
   "source": [
    "import os\n",
    "from PIL import Image, ImageOps\n",
    "\n",
    "from tensorflow.keras.applications.vgg16 import preprocess_input\n",
    "from tensorflow.keras.preprocessing.image import ImageDataGenerator"
   ]
  },
  {
   "cell_type": "code",
   "execution_count": 13,
   "id": "c44898a5",
   "metadata": {},
   "outputs": [],
   "source": [
    "# setup folders etc\n",
    "for split in ['training', 'evaluation', 'validation']:\n",
    "    for category in ['Bread', 'Dairy product', 'Dessert', 'Egg', 'Fried food', 'Meat', 'Noodles-Pasta', 'Rice', 'Seafood', 'Soup', 'Vegetable-Fruit']:\n",
    "        os.makedirs(f\"data\\\\reshaped\\\\{split}\\\\{category}\")"
   ]
  },
  {
   "cell_type": "code",
   "execution_count": null,
   "id": "74d9ae5a",
   "metadata": {},
   "outputs": [
    {
     "name": "stdout",
     "output_type": "stream",
     "text": [
      "checking training\n",
      "checking evaluation\n",
      "checking validation\n",
      "The following files had been corrupted, couldn't be opened and have now been deleted: []\n"
     ]
    }
   ],
   "source": [
    "# get list of corrupted files\n",
    "\n",
    "bad_files = []\n",
    "for split in ['training', 'evaluation', 'validation']:\n",
    "    path = f\"data\\\\unprocessed\\\\{split}\"\n",
    "    categories = os.listdir(path)\n",
    "    print(f\"checking {split}\")\n",
    "    for category in categories:\n",
    "        images = os.listdir(f\"{path}\\\\{category}\")\n",
    "        # print(f\"checking {split}\\\\{category}\")\n",
    "        for i in images:\n",
    "            try:\n",
    "                Image.open(f\"{path}\\\\{category}\\\\{i}\").verify()\n",
    "            except Exception:\n",
    "                bad_files.append(f\"{path}\\\\{category}\\\\{i}\")\n",
    "print(f\"The following files had been corrupted, couldn't be opened and have now been deleted: {bad_files}\")"
   ]
  },
  {
   "cell_type": "code",
   "execution_count": null,
   "id": "dae02daf",
   "metadata": {},
   "outputs": [],
   "source": [
    "# delete corrupted files\n",
    "\n",
    "for file in bad_files:\n",
    "    os.remove(file)"
   ]
  },
  {
   "cell_type": "code",
   "execution_count": 14,
   "id": "299a337f",
   "metadata": {},
   "outputs": [
    {
     "name": "stdout",
     "output_type": "stream",
     "text": [
      "starting reshaping\n",
      "re-shaping training\n",
      "re-shaping training\\Bread\n",
      "re-shaping training\\Dairy product\n",
      "re-shaping training\\Dessert\n",
      "re-shaping training\\Egg\n",
      "re-shaping training\\Fried food\n",
      "re-shaping training\\Meat\n",
      "re-shaping training\\Noodles-Pasta\n",
      "re-shaping training\\Rice\n",
      "re-shaping training\\Seafood\n",
      "re-shaping training\\Soup\n",
      "re-shaping training\\Vegetable-Fruit\n",
      "re-shaping evaluation\n",
      "re-shaping evaluation\\Bread\n",
      "re-shaping evaluation\\Dairy product\n",
      "re-shaping evaluation\\Dessert\n",
      "re-shaping evaluation\\Egg\n",
      "re-shaping evaluation\\Fried food\n",
      "re-shaping evaluation\\Meat\n",
      "re-shaping evaluation\\Noodles-Pasta\n",
      "re-shaping evaluation\\Rice\n",
      "re-shaping evaluation\\Seafood\n",
      "re-shaping evaluation\\Soup\n",
      "re-shaping evaluation\\Vegetable-Fruit\n",
      "re-shaping validation\n",
      "re-shaping validation\\Bread\n",
      "re-shaping validation\\Dairy product\n",
      "re-shaping validation\\Dessert\n",
      "re-shaping validation\\Egg\n",
      "re-shaping validation\\Fried food\n",
      "re-shaping validation\\Meat\n",
      "re-shaping validation\\Noodles-Pasta\n",
      "re-shaping validation\\Rice\n",
      "re-shaping validation\\Seafood\n",
      "re-shaping validation\\Soup\n",
      "re-shaping validation\\Vegetable-Fruit\n"
     ]
    }
   ],
   "source": [
    "# resize with padding to square\n",
    "\n",
    "def resize(input, output):\n",
    "    img = Image.open(input).convert(\"RGB\")\n",
    "    img = ImageOps.pad(img, size=(224, 224), color=(0, 0, 0))\n",
    "    img.save(output)\n",
    "\n",
    "print(\"starting reshaping\")\n",
    "for split in ['training', 'evaluation', 'validation']:\n",
    "    path = f\"data\\\\unprocessed\\\\{split}\"\n",
    "    categories = os.listdir(path)\n",
    "    print(f\"re-shaping {split}\")\n",
    "    for category in categories:\n",
    "        images = os.listdir(f\"{path}\\\\{category}\")\n",
    "        print(f\"re-shaping {split}\\\\{category}\")\n",
    "        for i in images:\n",
    "            resize(\n",
    "                input = f\"{path}\\\\{category}\\\\{i}\",\n",
    "                output=f\"data\\\\reshaped\\\\{split}\\\\{category}\\\\{i}\"\n",
    "                )\n",
    "            "
   ]
  },
  {
   "cell_type": "code",
   "execution_count": null,
   "id": "4cb25858",
   "metadata": {},
   "outputs": [],
   "source": [
    "# images are now square.\n",
    "# next step is to normalize them to 224 * 224\n"
   ]
  }
 ],
 "metadata": {
  "kernelspec": {
   "display_name": ".venv",
   "language": "python",
   "name": "python3"
  },
  "language_info": {
   "codemirror_mode": {
    "name": "ipython",
    "version": 3
   },
   "file_extension": ".py",
   "mimetype": "text/x-python",
   "name": "python",
   "nbconvert_exporter": "python",
   "pygments_lexer": "ipython3",
   "version": "3.12.0"
  }
 },
 "nbformat": 4,
 "nbformat_minor": 5
}
