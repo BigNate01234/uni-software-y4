{
 "cells": [
  {
   "cell_type": "code",
   "execution_count": 30,
   "id": "ebce21a3",
   "metadata": {},
   "outputs": [],
   "source": [
    "import cv2\n",
    "import os\n",
    "from pprint import pprint"
   ]
  },
  {
   "cell_type": "code",
   "execution_count": 13,
   "id": "f6ff3ad0",
   "metadata": {},
   "outputs": [],
   "source": [
    "# setup directory for training data\n",
    "os.makedirs('data\\\\training_data', exist_ok=True)"
   ]
  },
  {
   "cell_type": "code",
   "execution_count": null,
   "id": "3165402d",
   "metadata": {},
   "outputs": [
    {
     "name": "stdout",
     "output_type": "stream",
     "text": [
      "['apple', 'baguel', 'banana', 'beef', 'ketchup', 'orange', 'ravioli', 'spageti']\n",
      "✅ Extracted 2031 frames from 'video_apple' into 'data\\training_data\\apple\\video_apple'\n",
      "✅ Extracted 1876 frames from 'video_baguel' into 'data\\training_data\\baguel\\video_baguel'\n",
      "✅ Extracted 1861 frames from 'video_banana' into 'data\\training_data\\banana\\video_banana'\n",
      "✅ Extracted 1903 frames from 'video_beef' into 'data\\training_data\\beef\\video_beef'\n",
      "✅ Extracted 1935 frames from 'video_ketchup' into 'data\\training_data\\ketchup\\video_ketchup'\n",
      "✅ Extracted 1862 frames from 'video_orange' into 'data\\training_data\\orange\\video_orange'\n",
      "✅ Extracted 1865 frames from 'video_ravioli' into 'data\\training_data\\ravioli\\video_ravioli'\n",
      "✅ Extracted 1901 frames from 'video_spageti' into 'data\\training_data\\spageti\\video_spageti'\n"
     ]
    }
   ],
   "source": [
    "video_paths = os.listdir('data\\\\videos')\n",
    "labels = []\n",
    "for video in video_paths:\n",
    "    labels.append(video.split(\"_\")[1][:-4])\n",
    "\n",
    "for label in labels:\n",
    "    video_path = f\"data\\\\videos\\\\video_{label}.mp4\"\n",
    "    output_dir = f\"data\\\\training_data\\\\{label}\"\n",
    "\n",
    "    video_name = os.path.splitext(os.path.basename(video_path))[0]\n",
    "    frames_dir = os.path.join(output_dir, video_name)\n",
    "    os.makedirs(frames_dir, exist_ok=True)\n",
    "\n",
    "    cap = cv2.VideoCapture(video_path)\n",
    "    frame_count = 0\n",
    "\n",
    "    while True:\n",
    "        success, frame = cap.read()\n",
    "        if not success:\n",
    "            break\n",
    "\n",
    "        frame_filename = os.path.join(frames_dir, f\"frame_{frame_count:06d}.jpg\")\n",
    "        cv2.imwrite(frame_filename, frame)\n",
    "        frame_count += 1\n",
    "\n",
    "    cap.release()\n",
    "    print(f\"✅ Extracted {frame_count} frames from '{video_name}' into '{frames_dir}'\")\n"
   ]
  }
 ],
 "metadata": {
  "kernelspec": {
   "display_name": "venv",
   "language": "python",
   "name": "python3"
  },
  "language_info": {
   "codemirror_mode": {
    "name": "ipython",
    "version": 3
   },
   "file_extension": ".py",
   "mimetype": "text/x-python",
   "name": "python",
   "nbconvert_exporter": "python",
   "pygments_lexer": "ipython3",
   "version": "3.12.0"
  }
 },
 "nbformat": 4,
 "nbformat_minor": 5
}
